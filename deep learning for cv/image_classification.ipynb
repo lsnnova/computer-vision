{
 "cells": [
  {
   "cell_type": "markdown",
   "metadata": {},
   "source": [
    "# Image Classification with PyTorch"
   ]
  },
  {
   "cell_type": "markdown",
   "metadata": {},
   "source": [
    "## Data loading\n"
   ]
  },
  {
   "cell_type": "code",
   "execution_count": 1,
   "metadata": {},
   "outputs": [
    {
     "name": "stderr",
     "output_type": "stream",
     "text": [
      "\n",
      "Bad key \"text.kerning_factor\" on line 4 in\n",
      "e:\\python363\\lib\\site-packages\\matplotlib\\mpl-data\\stylelib\\_classic_test_patch.mplstyle.\n",
      "You probably need to get an updated matplotlibrc file from\n",
      "http://github.com/matplotlib/matplotlib/blob/master/matplotlibrc.template\n",
      "or from the matplotlib source distribution\n",
      "e:\\python363\\lib\\site-packages\\tqdm\\auto.py:22: TqdmWarning: IProgress not found. Please update jupyter and ipywidgets. See https://ipywidgets.readthedocs.io/en/stable/user_install.html\n",
      "  from .autonotebook import tqdm as notebook_tqdm\n",
      "e:\\python363\\lib\\site-packages\\torchvision\\io\\image.py:11: UserWarning: Failed to load image Python extension: [WinError 127] 找不到指定的程序。\n",
      "  warn(f\"Failed to load image Python extension: {e}\")\n"
     ]
    }
   ],
   "source": [
    "import numpy as np\n",
    "import matplotlib.pyplot as plt\n",
    "\n",
    "import torch\n",
    "import torch.nn as nn\n",
    "import torch.nn.functional as F\n",
    "import torch.optim as optim\n",
    "from torch.utils.data import DataLoader\n",
    "import torchvision\n",
    "from torchvision import datasets, transforms"
   ]
  },
  {
   "cell_type": "code",
   "execution_count": 2,
   "metadata": {},
   "outputs": [
    {
     "name": "stdout",
     "output_type": "stream",
     "text": [
      "Downloading http://yann.lecun.com/exdb/mnist/train-images-idx3-ubyte.gz\n",
      "Failed to download (trying next):\n",
      "<urlopen error [SSL: CERTIFICATE_VERIFY_FAILED] certificate verify failed (_ssl.c:777)>\n",
      "\n",
      "Downloading https://ossci-datasets.s3.amazonaws.com/mnist/train-images-idx3-ubyte.gz\n",
      "Downloading https://ossci-datasets.s3.amazonaws.com/mnist/train-images-idx3-ubyte.gz to data\\MNIST\\raw\\train-images-idx3-ubyte.gz\n"
     ]
    },
    {
     "name": "stderr",
     "output_type": "stream",
     "text": [
      "9913344it [00:01, 5109079.38it/s]                                                                                      \n"
     ]
    },
    {
     "name": "stdout",
     "output_type": "stream",
     "text": [
      "Extracting data\\MNIST\\raw\\train-images-idx3-ubyte.gz to data\\MNIST\\raw\n",
      "\n",
      "Downloading http://yann.lecun.com/exdb/mnist/train-labels-idx1-ubyte.gz\n",
      "Failed to download (trying next):\n",
      "<urlopen error [SSL: CERTIFICATE_VERIFY_FAILED] certificate verify failed (_ssl.c:777)>\n",
      "\n",
      "Downloading https://ossci-datasets.s3.amazonaws.com/mnist/train-labels-idx1-ubyte.gz\n",
      "Downloading https://ossci-datasets.s3.amazonaws.com/mnist/train-labels-idx1-ubyte.gz to data\\MNIST\\raw\\train-labels-idx1-ubyte.gz\n"
     ]
    },
    {
     "name": "stderr",
     "output_type": "stream",
     "text": [
      "29696it [00:00, 324275.06it/s]                                                                                         \n"
     ]
    },
    {
     "name": "stdout",
     "output_type": "stream",
     "text": [
      "Extracting data\\MNIST\\raw\\train-labels-idx1-ubyte.gz to data\\MNIST\\raw\n",
      "\n",
      "Downloading http://yann.lecun.com/exdb/mnist/t10k-images-idx3-ubyte.gz\n",
      "Failed to download (trying next):\n",
      "<urlopen error [SSL: CERTIFICATE_VERIFY_FAILED] certificate verify failed (_ssl.c:777)>\n",
      "\n",
      "Downloading https://ossci-datasets.s3.amazonaws.com/mnist/t10k-images-idx3-ubyte.gz\n",
      "Downloading https://ossci-datasets.s3.amazonaws.com/mnist/t10k-images-idx3-ubyte.gz to data\\MNIST\\raw\\t10k-images-idx3-ubyte.gz\n"
     ]
    },
    {
     "name": "stderr",
     "output_type": "stream",
     "text": [
      "1649664it [00:00, 2028056.19it/s]                                                                                      \n"
     ]
    },
    {
     "name": "stdout",
     "output_type": "stream",
     "text": [
      "Extracting data\\MNIST\\raw\\t10k-images-idx3-ubyte.gz to data\\MNIST\\raw\n",
      "\n",
      "Downloading http://yann.lecun.com/exdb/mnist/t10k-labels-idx1-ubyte.gz\n",
      "Failed to download (trying next):\n",
      "<urlopen error [SSL: CERTIFICATE_VERIFY_FAILED] certificate verify failed (_ssl.c:777)>\n",
      "\n",
      "Downloading https://ossci-datasets.s3.amazonaws.com/mnist/t10k-labels-idx1-ubyte.gz\n",
      "Downloading https://ossci-datasets.s3.amazonaws.com/mnist/t10k-labels-idx1-ubyte.gz to data\\MNIST\\raw\\t10k-labels-idx1-ubyte.gz\n"
     ]
    },
    {
     "name": "stderr",
     "output_type": "stream",
     "text": [
      "5120it [00:00, 1291408.77it/s]                                                                                         "
     ]
    },
    {
     "name": "stdout",
     "output_type": "stream",
     "text": [
      "Extracting data\\MNIST\\raw\\t10k-labels-idx1-ubyte.gz to data\\MNIST\\raw\n",
      "\n"
     ]
    },
    {
     "name": "stderr",
     "output_type": "stream",
     "text": [
      "\n"
     ]
    }
   ],
   "source": [
    "# torchvision contains convinience functions for popular datasets\n",
    "ds_train = datasets.MNIST('data', train=True, download=True)"
   ]
  },
  {
   "cell_type": "markdown",
   "metadata": {},
   "source": [
    "Each sample is a 28x28 image"
   ]
  },
  {
   "cell_type": "code",
   "execution_count": 3,
   "metadata": {},
   "outputs": [
    {
     "name": "stdout",
     "output_type": "stream",
     "text": [
      "(<PIL.Image.Image image mode=L size=28x28 at 0x2DE403BA128>, 5)\n"
     ]
    },
    {
     "data": {
      "image/png": "[encoded data removed]",
      "text/plain": [
       "<PIL.Image.Image image mode=L size=120x120 at 0x2DE7ACBCE10>"
      ]
     },
     "execution_count": 3,
     "metadata": {},
     "output_type": "execute_result"
    }
   ],
   "source": [
    "# if we index this dataset, we get a single data point: a PIL image and an Integer\n",
    "print(ds_train[0])\n",
    "ds_train[0][0].resize((120,120))"
   ]
  },
  {
   "cell_type": "markdown",
   "metadata": {},
   "source": [
    "Let's transform the data to something that our Pytorch models will understand\n",
    "for this purpose, we can supply a transform function to the datase"
   ]
  },
  {
   "cell_type": "code",
   "execution_count": 4,
   "metadata": {},
   "outputs": [],
   "source": [
    "transform = transforms.Compose([\n",
    "    transforms.ToTensor(),\n",
    "])\n",
    "ds_train = datasets.MNIST('data', train=True, download=True, transform=transform)"
   ]
  },
  {
   "cell_type": "markdown",
   "metadata": {},
   "source": [
    "The image is now a `torch.Tensor`"
   ]
  },
  {
   "cell_type": "code",
   "execution_count": 5,
   "metadata": {},
   "outputs": [
    {
     "data": {
      "text/plain": [
       "torch.Tensor"
      ]
     },
     "execution_count": 5,
     "metadata": {},
     "output_type": "execute_result"
    }
   ],
   "source": [
    "type(ds_train[0][0])"
   ]
  },
  {
   "cell_type": "markdown",
   "metadata": {},
   "source": [
    "The normalization is something you learned about in the lecture. Normalizing with $\\mu=0, \\sigma=1$ corresponds to no normalization. Let's compute the proper normalization constants!"
   ]
  },
  {
   "cell_type": "code",
   "execution_count": 6,
   "metadata": {},
   "outputs": [],
   "source": [
    "# lets get only the images \n",
    "ims_train = ds_train.data\n",
    "ims_train = ims_train.float() / 255."
   ]
  },
  {
   "cell_type": "code",
   "execution_count": 9,
   "metadata": {},
   "outputs": [
    {
     "data": {
      "text/plain": [
       "tensor(0.3081)"
      ]
     },
     "execution_count": 9,
     "metadata": {},
     "output_type": "execute_result"
    }
   ],
   "source": [
    "#########################################################################\n",
    "# TODO: calculate the mean and std of MNIST images\n",
    "# hint: to look for operations on pytorch tensor, refer to the official PyTorch docs \n",
    "# https://pytorch.org/docs/stable/\n",
    "#########################################################################\n",
    "mu = ims_train.mean()\n",
    "std = ims_train.std()"
   ]
  },
  {
   "cell_type": "markdown",
   "metadata": {},
   "source": [
    "We normalize the data as below."
   ]
  },
  {
   "cell_type": "code",
   "execution_count": 10,
   "metadata": {},
   "outputs": [],
   "source": [
    "transform = transforms.Compose([\n",
    "    transforms.ToTensor(),\n",
    "    transforms.Normalize(mu, std)\n",
    "])\n",
    "ds_train = datasets.MNIST('data', train=True, download=True, transform=transform)\n",
    "ds_test = datasets.MNIST('data', train=False, download=True, transform=transform)"
   ]
  },
  {
   "cell_type": "code",
   "execution_count": 11,
   "metadata": {},
   "outputs": [
    {
     "data": {
      "text/plain": [
       "(tensor(-0.4241), tensor(2.8215))"
      ]
     },
     "execution_count": 11,
     "metadata": {},
     "output_type": "execute_result"
    }
   ],
   "source": [
    "ds_train[0][0].min(), ds_train[0][0].max()"
   ]
  },
  {
   "cell_type": "markdown",
   "metadata": {},
   "source": [
    "Next, we want to receive mini-batches, not only single data points.\n",
    "We use PyTorch's DataLoader class. Build a dataloader with a batch size of 64 and 4 workers (number of subprocess that peform the dataloading). Important: you need to shuffle the training data, not the test data.\n",
    "\n",
    "**NOTE**: if you encounter some unexpected errors in data loading, try setting `NUM_WORKERS = 0`"
   ]
  },
  {
   "cell_type": "code",
   "execution_count": 12,
   "metadata": {},
   "outputs": [],
   "source": [
    "BATCH_SIZE = 64\n",
    "NUM_WORKERS = 4\n",
    "#########################################################################\n",
    "# TODO: Build a dataloader for both train and test data.\n",
    "#########################################################################\n",
    "dl_train = DataLoader(ds_train, batch_size=BATCH_SIZE, shuffle=True, num_workers=NUM_WORKERS)\n",
    "dl_test = DataLoader(ds_train, batch_size=BATCH_SIZE, shuffle=False, num_workers=NUM_WORKERS)"
   ]
  },
  {
   "cell_type": "markdown",
   "metadata": {},
   "source": [
    "## MLP in Pytorch\n",
    "\n",
    "Ok, the dataloading works. Let's build our model, PyTorch makes this very easy. We will build replicate the model from our last exercises. However, now, we add another variable called `nLayer` that indicates how many linear layers that in your network. Please adapt your code from last exercise accordingly to allow different number of layers."
   ]
  },
  {
   "cell_type": "code",
   "execution_count": 13,
   "metadata": {},
   "outputs": [],
   "source": [
    "# These are the parameters to be used\n",
    "nInput = 784\n",
    "nOutput = 10\n",
    "nLayer = 2\n",
    "nHidden = 16\n",
    "act_fn = nn.ReLU()"
   ]
  },
  {
   "cell_type": "code",
   "execution_count": 14,
   "metadata": {},
   "outputs": [],
   "source": [
    "#########################################################################\n",
    "# TODO: Implement the __init__ of the MLP class. \n",
    "# insert the activation after every linear layer. Important: the number of \n",
    "# hidden layers should be variable!\n",
    "#########################################################################\n",
    "\n",
    "class MLP(nn.Module):\n",
    "    def __init__(self, nInput, nOutput, nLayer, nHidden, act_fn):\n",
    "        super(MLP, self).__init__()\n",
    "        layers = [] \n",
    "        layers.append(nn.Linear(nInput, nHidden))\n",
    "        layers.append(act_fn)\n",
    "        \n",
    "        #hidden layer\n",
    "        for _ in range(nLayer - 1):\n",
    "            layers.append(nn.Linear(nHidden, nHidden))\n",
    "            layers.append(act_fn)\n",
    "        \n",
    "        #last layer\n",
    "        layers.append(nn.Linear(nHidden, nOutput))\n",
    "       \n",
    "        ###############################\n",
    "        \n",
    "        self.model = nn.Sequential(*layers)\n",
    "\n",
    "    def forward(self, x):\n",
    "        x = torch.flatten(x, 1)\n",
    "        return self.model(x)"
   ]
  },
  {
   "cell_type": "code",
   "execution_count": 15,
   "metadata": {
    "scrolled": true
   },
   "outputs": [
    {
     "data": {
      "text/plain": [
       "torch.Size([1, 10])"
      ]
     },
     "execution_count": 15,
     "metadata": {},
     "output_type": "execute_result"
    }
   ],
   "source": [
    "# Let's test if the forward pass works\n",
    "# this should print torch.Size([1, 10])\n",
    "t = torch.randn(1,1,28,28)\n",
    "mlp = MLP(nInput, nOutput, nLayer, nHidden, act_fn)\n",
    "mlp(t).shape"
   ]
  },
  {
   "cell_type": "code",
   "execution_count": 16,
   "metadata": {},
   "outputs": [
    {
     "data": {
      "text/plain": [
       "MLP(\n",
       "  (model): Sequential(\n",
       "    (0): Linear(in_features=784, out_features=16, bias=True)\n",
       "    (1): ReLU()\n",
       "    (2): Linear(in_features=16, out_features=16, bias=True)\n",
       "    (3): ReLU()\n",
       "    (4): Linear(in_features=16, out_features=10, bias=True)\n",
       "  )\n",
       ")"
      ]
     },
     "execution_count": 16,
     "metadata": {},
     "output_type": "execute_result"
    }
   ],
   "source": [
    "mlp"
   ]
  },
  {
   "cell_type": "markdown",
   "metadata": {},
   "source": [
    "We already implemented the test function for you"
   ]
  },
  {
   "cell_type": "code",
   "execution_count": 17,
   "metadata": {},
   "outputs": [],
   "source": [
    "def test(model, dl_test, device='cpu'):\n",
    "    model.eval()\n",
    "    test_loss = 0\n",
    "    correct = 0\n",
    "    with torch.no_grad():\n",
    "        for data, target in dl_test:\n",
    "            data, target = data.to(device), target.to(device)\n",
    "            output = model(data)\n",
    "            test_loss += F.cross_entropy(output, target, reduction='sum').item()  # sum up batch loss\n",
    "            pred = output.argmax(dim=1, keepdim=True)  # get the index of the max log-probability\n",
    "            correct += pred.eq(target.view_as(pred)).sum().item()\n",
    "\n",
    "    test_loss /= len(dl_test.dataset)\n",
    "\n",
    "    print('\\nTest set: Average loss: {:.4f}, Accuracy: {}/{} ({:.3f}%)\\n'.format(\n",
    "        test_loss, correct, len(dl_test.dataset),\n",
    "        100. * correct / len(dl_test.dataset)))"
   ]
  },
  {
   "cell_type": "markdown",
   "metadata": {},
   "source": [
    "Now you only need to implement the training and you are good to go"
   ]
  },
  {
   "cell_type": "code",
   "execution_count": 21,
   "metadata": {},
   "outputs": [],
   "source": [
    "#########################################################################\n",
    "# TODO: Implement the missing part of the training function. As a loss function we want to use cross entropy\n",
    "# It can be called with F.cross_entropy().\n",
    "# Hint: Pass through the model -> Backpropagate gradients -> Take gradient step\n",
    "#########################################################################\n",
    "\n",
    "def train(model, dl_train, optimizer, epoch, log_interval=100, device='cpu'):\n",
    "    model.train()\n",
    "    correct = 0\n",
    "    for batch_idx, (data, target) in enumerate(dl_train):\n",
    "        data, target = data.to(device), target.to(device)\n",
    "        \n",
    "        # first we need to zero the gradient, otherwise PyTorch would accumulate them\n",
    "        optimizer.zero_grad()         \n",
    "        \n",
    "        ##### implement this part #####\n",
    "        output = model(data)\n",
    "        loss = F.cross_entropy(output, target)\n",
    "        loss.backward()\n",
    "        optimizer.step()\n",
    "        \n",
    "        ###############################\n",
    "\n",
    "        # stats\n",
    "        pred = output.argmax(dim=1, keepdim=True)  # get the index of the max log-probability\n",
    "        correct += pred.eq(target.view_as(pred)).sum().item()\n",
    "\n",
    "        if batch_idx % log_interval == 0:\n",
    "            print('Train Epoch: {} [{}/{} ({:.0f}%)]\\tLoss: {:.6f}'.format(\n",
    "                epoch, batch_idx * len(data), len(dl_train.dataset),\n",
    "                100. * batch_idx / len(dl_train), loss.item()))\n",
    "\n",
    "    print('\\nTrain set: Average loss: {:.4f}, Accuracy: {}/{} ({:.1f}%)\\n'.format(\n",
    "        loss, correct, len(dl_train.dataset),\n",
    "        100. * correct / len(dl_train.dataset)))"
   ]
  },
  {
   "cell_type": "markdown",
   "metadata": {},
   "source": [
    "Ok, the setup is almost done. The only missing part is the optimizer. We are going to use Adam."
   ]
  },
  {
   "cell_type": "code",
   "execution_count": 22,
   "metadata": {},
   "outputs": [],
   "source": [
    "# reinitialize the mlp, so we can play with parameters right here\n",
    "mlp = MLP(nInput, nOutput, nLayer, nHidden, act_fn)\n",
    "optimizer = optim.Adam(mlp.parameters())"
   ]
  },
  {
   "cell_type": "code",
   "execution_count": 23,
   "metadata": {
    "scrolled": true
   },
   "outputs": [
    {
     "name": "stdout",
     "output_type": "stream",
     "text": [
      "Train Epoch: 1 [0/60000 (0%)]\tLoss: 2.362475\n",
      "Train Epoch: 1 [6400/60000 (11%)]\tLoss: 0.786009\n",
      "Train Epoch: 1 [12800/60000 (21%)]\tLoss: 0.397193\n",
      "Train Epoch: 1 [19200/60000 (32%)]\tLoss: 0.340942\n",
      "Train Epoch: 1 [25600/60000 (43%)]\tLoss: 0.521764\n",
      "Train Epoch: 1 [32000/60000 (53%)]\tLoss: 0.187521\n",
      "Train Epoch: 1 [38400/60000 (64%)]\tLoss: 0.330172\n",
      "Train Epoch: 1 [44800/60000 (75%)]\tLoss: 0.281024\n",
      "Train Epoch: 1 [51200/60000 (85%)]\tLoss: 0.233975\n",
      "Train Epoch: 1 [57600/60000 (96%)]\tLoss: 0.258619\n",
      "\n",
      "Train set: Average loss: 0.3702, Accuracy: 52030/60000 (86.7%)\n",
      "\n",
      "\n",
      "Test set: Average loss: 0.2712, Accuracy: 55377/60000 (92.295%)\n",
      "\n",
      "Train Epoch: 2 [0/60000 (0%)]\tLoss: 0.162543\n",
      "Train Epoch: 2 [6400/60000 (11%)]\tLoss: 0.274161\n",
      "Train Epoch: 2 [12800/60000 (21%)]\tLoss: 0.344722\n",
      "Train Epoch: 2 [19200/60000 (32%)]\tLoss: 0.600485\n",
      "Train Epoch: 2 [25600/60000 (43%)]\tLoss: 0.203121\n",
      "Train Epoch: 2 [32000/60000 (53%)]\tLoss: 0.259151\n",
      "Train Epoch: 2 [38400/60000 (64%)]\tLoss: 0.137907\n",
      "Train Epoch: 2 [44800/60000 (75%)]\tLoss: 0.211110\n",
      "Train Epoch: 2 [51200/60000 (85%)]\tLoss: 0.234478\n",
      "Train Epoch: 2 [57600/60000 (96%)]\tLoss: 0.441446\n",
      "\n",
      "Train set: Average loss: 0.2159, Accuracy: 55524/60000 (92.5%)\n",
      "\n",
      "\n",
      "Test set: Average loss: 0.2206, Accuracy: 56208/60000 (93.680%)\n",
      "\n",
      "Train Epoch: 3 [0/60000 (0%)]\tLoss: 0.208441\n",
      "Train Epoch: 3 [6400/60000 (11%)]\tLoss: 0.150655\n",
      "Train Epoch: 3 [12800/60000 (21%)]\tLoss: 0.255883\n",
      "Train Epoch: 3 [19200/60000 (32%)]\tLoss: 0.117191\n",
      "Train Epoch: 3 [25600/60000 (43%)]\tLoss: 0.207487\n",
      "Train Epoch: 3 [32000/60000 (53%)]\tLoss: 0.091703\n",
      "Train Epoch: 3 [38400/60000 (64%)]\tLoss: 0.335358\n",
      "Train Epoch: 3 [44800/60000 (75%)]\tLoss: 0.137521\n",
      "Train Epoch: 3 [51200/60000 (85%)]\tLoss: 0.385993\n",
      "Train Epoch: 3 [57600/60000 (96%)]\tLoss: 0.136423\n",
      "\n",
      "Train set: Average loss: 0.3234, Accuracy: 56211/60000 (93.7%)\n",
      "\n",
      "\n",
      "Test set: Average loss: 0.1894, Accuracy: 56700/60000 (94.500%)\n",
      "\n",
      "Train Epoch: 4 [0/60000 (0%)]\tLoss: 0.160320\n",
      "Train Epoch: 4 [6400/60000 (11%)]\tLoss: 0.090428\n",
      "Train Epoch: 4 [12800/60000 (21%)]\tLoss: 0.472469\n",
      "Train Epoch: 4 [19200/60000 (32%)]\tLoss: 0.212263\n",
      "Train Epoch: 4 [25600/60000 (43%)]\tLoss: 0.184058\n",
      "Train Epoch: 4 [32000/60000 (53%)]\tLoss: 0.348304\n",
      "Train Epoch: 4 [38400/60000 (64%)]\tLoss: 0.353399\n",
      "Train Epoch: 4 [44800/60000 (75%)]\tLoss: 0.083128\n",
      "Train Epoch: 4 [51200/60000 (85%)]\tLoss: 0.045699\n",
      "Train Epoch: 4 [57600/60000 (96%)]\tLoss: 0.193268\n",
      "\n",
      "Train set: Average loss: 0.1461, Accuracy: 56652/60000 (94.4%)\n",
      "\n",
      "\n",
      "Test set: Average loss: 0.1753, Accuracy: 56895/60000 (94.825%)\n",
      "\n",
      "Train Epoch: 5 [0/60000 (0%)]\tLoss: 0.182345\n",
      "Train Epoch: 5 [6400/60000 (11%)]\tLoss: 0.111172\n",
      "Train Epoch: 5 [12800/60000 (21%)]\tLoss: 0.312552\n",
      "Train Epoch: 5 [19200/60000 (32%)]\tLoss: 0.259390\n",
      "Train Epoch: 5 [25600/60000 (43%)]\tLoss: 0.090878\n",
      "Train Epoch: 5 [32000/60000 (53%)]\tLoss: 0.309411\n",
      "Train Epoch: 5 [38400/60000 (64%)]\tLoss: 0.593633\n",
      "Train Epoch: 5 [44800/60000 (75%)]\tLoss: 0.128498\n",
      "Train Epoch: 5 [51200/60000 (85%)]\tLoss: 0.179650\n",
      "Train Epoch: 5 [57600/60000 (96%)]\tLoss: 0.099620\n",
      "\n",
      "Train set: Average loss: 0.2813, Accuracy: 56963/60000 (94.9%)\n",
      "\n",
      "\n",
      "Test set: Average loss: 0.1599, Accuracy: 57143/60000 (95.238%)\n",
      "\n",
      "Train Epoch: 6 [0/60000 (0%)]\tLoss: 0.098418\n",
      "Train Epoch: 6 [6400/60000 (11%)]\tLoss: 0.108387\n",
      "Train Epoch: 6 [12800/60000 (21%)]\tLoss: 0.177797\n",
      "Train Epoch: 6 [19200/60000 (32%)]\tLoss: 0.185673\n",
      "Train Epoch: 6 [25600/60000 (43%)]\tLoss: 0.369692\n",
      "Train Epoch: 6 [32000/60000 (53%)]\tLoss: 0.185875\n",
      "Train Epoch: 6 [38400/60000 (64%)]\tLoss: 0.279275\n",
      "Train Epoch: 6 [44800/60000 (75%)]\tLoss: 0.218639\n",
      "Train Epoch: 6 [51200/60000 (85%)]\tLoss: 0.081889\n",
      "Train Epoch: 6 [57600/60000 (96%)]\tLoss: 0.096203\n",
      "\n",
      "Train set: Average loss: 0.2207, Accuracy: 57159/60000 (95.3%)\n",
      "\n",
      "\n",
      "Test set: Average loss: 0.1471, Accuracy: 57408/60000 (95.680%)\n",
      "\n",
      "Train Epoch: 7 [0/60000 (0%)]\tLoss: 0.223814\n",
      "Train Epoch: 7 [6400/60000 (11%)]\tLoss: 0.161829\n",
      "Train Epoch: 7 [12800/60000 (21%)]\tLoss: 0.195346\n",
      "Train Epoch: 7 [19200/60000 (32%)]\tLoss: 0.224107\n",
      "Train Epoch: 7 [25600/60000 (43%)]\tLoss: 0.091683\n",
      "Train Epoch: 7 [32000/60000 (53%)]\tLoss: 0.257270\n",
      "Train Epoch: 7 [38400/60000 (64%)]\tLoss: 0.240736\n",
      "Train Epoch: 7 [44800/60000 (75%)]\tLoss: 0.078656\n",
      "Train Epoch: 7 [51200/60000 (85%)]\tLoss: 0.093855\n",
      "Train Epoch: 7 [57600/60000 (96%)]\tLoss: 0.046969\n",
      "\n",
      "Train set: Average loss: 0.2905, Accuracy: 57229/60000 (95.4%)\n",
      "\n",
      "\n",
      "Test set: Average loss: 0.1390, Accuracy: 57563/60000 (95.938%)\n",
      "\n",
      "Train Epoch: 8 [0/60000 (0%)]\tLoss: 0.043358\n",
      "Train Epoch: 8 [6400/60000 (11%)]\tLoss: 0.034965\n",
      "Train Epoch: 8 [12800/60000 (21%)]\tLoss: 0.309334\n",
      "Train Epoch: 8 [19200/60000 (32%)]\tLoss: 0.097205\n",
      "Train Epoch: 8 [25600/60000 (43%)]\tLoss: 0.153086\n",
      "Train Epoch: 8 [32000/60000 (53%)]\tLoss: 0.050877\n",
      "Train Epoch: 8 [38400/60000 (64%)]\tLoss: 0.091791\n",
      "Train Epoch: 8 [44800/60000 (75%)]\tLoss: 0.132959\n",
      "Train Epoch: 8 [51200/60000 (85%)]\tLoss: 0.268801\n",
      "Train Epoch: 8 [57600/60000 (96%)]\tLoss: 0.094634\n",
      "\n",
      "Train set: Average loss: 0.4735, Accuracy: 57339/60000 (95.6%)\n",
      "\n",
      "\n",
      "Test set: Average loss: 0.1322, Accuracy: 57634/60000 (96.057%)\n",
      "\n",
      "Train Epoch: 9 [0/60000 (0%)]\tLoss: 0.102066\n",
      "Train Epoch: 9 [6400/60000 (11%)]\tLoss: 0.205367\n",
      "Train Epoch: 9 [12800/60000 (21%)]\tLoss: 0.156862\n",
      "Train Epoch: 9 [19200/60000 (32%)]\tLoss: 0.341445\n",
      "Train Epoch: 9 [25600/60000 (43%)]\tLoss: 0.183983\n",
      "Train Epoch: 9 [32000/60000 (53%)]\tLoss: 0.258749\n",
      "Train Epoch: 9 [38400/60000 (64%)]\tLoss: 0.049915\n",
      "Train Epoch: 9 [44800/60000 (75%)]\tLoss: 0.078952\n",
      "Train Epoch: 9 [51200/60000 (85%)]\tLoss: 0.197940\n",
      "Train Epoch: 9 [57600/60000 (96%)]\tLoss: 0.142752\n",
      "\n",
      "Train set: Average loss: 0.1558, Accuracy: 57435/60000 (95.7%)\n",
      "\n",
      "\n",
      "Test set: Average loss: 0.1354, Accuracy: 57576/60000 (95.960%)\n",
      "\n",
      "Train Epoch: 10 [0/60000 (0%)]\tLoss: 0.115589\n",
      "Train Epoch: 10 [6400/60000 (11%)]\tLoss: 0.037054\n",
      "Train Epoch: 10 [12800/60000 (21%)]\tLoss: 0.087582\n",
      "Train Epoch: 10 [19200/60000 (32%)]\tLoss: 0.062456\n",
      "Train Epoch: 10 [25600/60000 (43%)]\tLoss: 0.122759\n",
      "Train Epoch: 10 [32000/60000 (53%)]\tLoss: 0.311514\n",
      "Train Epoch: 10 [38400/60000 (64%)]\tLoss: 0.070916\n",
      "Train Epoch: 10 [44800/60000 (75%)]\tLoss: 0.092010\n",
      "Train Epoch: 10 [51200/60000 (85%)]\tLoss: 0.102499\n",
      "Train Epoch: 10 [57600/60000 (96%)]\tLoss: 0.223169\n",
      "\n",
      "Train set: Average loss: 0.2812, Accuracy: 57577/60000 (96.0%)\n",
      "\n",
      "\n",
      "Test set: Average loss: 0.1227, Accuracy: 57741/60000 (96.235%)\n",
      "\n",
      "Training is finished.\n"
     ]
    }
   ],
   "source": [
    "epochs = 10\n",
    "for epoch in range(1, epochs + 1):\n",
    "    train(mlp, dl_train, optimizer, epoch, log_interval=100)\n",
    "    test(mlp, dl_test)\n",
    "\n",
    "print ('Training is finished.')"
   ]
  },
  {
   "cell_type": "markdown",
   "metadata": {},
   "source": [
    "After training, you should see test accuracies of > **94%** - By they way, here we report test accuracy, the last exercises reported test error. Accuracy is simply (1 - error). Both metrics are commonly reported, there is no clear preference in literature for one or the other."
   ]
  },
  {
   "cell_type": "markdown",
   "metadata": {},
   "source": [
    "Now, can you do some parameter tuning to boost the test accuracy to > **97%**?"
   ]
  },
  {
   "cell_type": "code",
   "execution_count": 25,
   "metadata": {
    "scrolled": true
   },
   "outputs": [
    {
     "name": "stdout",
     "output_type": "stream",
     "text": [
      "Train Epoch: 1 [0/60000 (0%)]\tLoss: 2.308804\n",
      "Train Epoch: 1 [6400/60000 (11%)]\tLoss: 0.532758\n",
      "Train Epoch: 1 [12800/60000 (21%)]\tLoss: 0.276272\n",
      "Train Epoch: 1 [19200/60000 (32%)]\tLoss: 0.279091\n",
      "Train Epoch: 1 [25600/60000 (43%)]\tLoss: 0.351811\n",
      "Train Epoch: 1 [32000/60000 (53%)]\tLoss: 0.255816\n",
      "Train Epoch: 1 [38400/60000 (64%)]\tLoss: 0.197234\n",
      "Train Epoch: 1 [44800/60000 (75%)]\tLoss: 0.290937\n",
      "Train Epoch: 1 [51200/60000 (85%)]\tLoss: 0.333313\n",
      "Train Epoch: 1 [57600/60000 (96%)]\tLoss: 0.242115\n",
      "\n",
      "Train set: Average loss: 0.0754, Accuracy: 52498/60000 (87.5%)\n",
      "\n",
      "\n",
      "Test set: Average loss: 0.2062, Accuracy: 56281/60000 (93.802%)\n",
      "\n",
      "Train Epoch: 2 [0/60000 (0%)]\tLoss: 0.119091\n",
      "Train Epoch: 2 [6400/60000 (11%)]\tLoss: 0.142677\n",
      "Train Epoch: 2 [12800/60000 (21%)]\tLoss: 0.303926\n",
      "Train Epoch: 2 [19200/60000 (32%)]\tLoss: 0.373186\n",
      "Train Epoch: 2 [25600/60000 (43%)]\tLoss: 0.152948\n",
      "Train Epoch: 2 [32000/60000 (53%)]\tLoss: 0.133077\n",
      "Train Epoch: 2 [38400/60000 (64%)]\tLoss: 0.149513\n",
      "Train Epoch: 2 [44800/60000 (75%)]\tLoss: 0.235423\n",
      "Train Epoch: 2 [51200/60000 (85%)]\tLoss: 0.302335\n",
      "Train Epoch: 2 [57600/60000 (96%)]\tLoss: 0.124383\n",
      "\n",
      "Train set: Average loss: 0.0563, Accuracy: 56621/60000 (94.4%)\n",
      "\n",
      "\n",
      "Test set: Average loss: 0.1430, Accuracy: 57433/60000 (95.722%)\n",
      "\n",
      "Train Epoch: 3 [0/60000 (0%)]\tLoss: 0.227221\n",
      "Train Epoch: 3 [6400/60000 (11%)]\tLoss: 0.162737\n",
      "Train Epoch: 3 [12800/60000 (21%)]\tLoss: 0.153882\n",
      "Train Epoch: 3 [19200/60000 (32%)]\tLoss: 0.173976\n",
      "Train Epoch: 3 [25600/60000 (43%)]\tLoss: 0.106301\n",
      "Train Epoch: 3 [32000/60000 (53%)]\tLoss: 0.121025\n",
      "Train Epoch: 3 [38400/60000 (64%)]\tLoss: 0.085128\n",
      "Train Epoch: 3 [44800/60000 (75%)]\tLoss: 0.104691\n",
      "Train Epoch: 3 [51200/60000 (85%)]\tLoss: 0.114918\n",
      "Train Epoch: 3 [57600/60000 (96%)]\tLoss: 0.072256\n",
      "\n",
      "Train set: Average loss: 0.2480, Accuracy: 57341/60000 (95.6%)\n",
      "\n",
      "\n",
      "Test set: Average loss: 0.1156, Accuracy: 57908/60000 (96.513%)\n",
      "\n",
      "Train Epoch: 4 [0/60000 (0%)]\tLoss: 0.197996\n",
      "Train Epoch: 4 [6400/60000 (11%)]\tLoss: 0.271419\n",
      "Train Epoch: 4 [12800/60000 (21%)]\tLoss: 0.043421\n",
      "Train Epoch: 4 [19200/60000 (32%)]\tLoss: 0.086102\n",
      "Train Epoch: 4 [25600/60000 (43%)]\tLoss: 0.144316\n",
      "Train Epoch: 4 [32000/60000 (53%)]\tLoss: 0.105313\n",
      "Train Epoch: 4 [38400/60000 (64%)]\tLoss: 0.113608\n",
      "Train Epoch: 4 [44800/60000 (75%)]\tLoss: 0.043783\n",
      "Train Epoch: 4 [51200/60000 (85%)]\tLoss: 0.090095\n",
      "Train Epoch: 4 [57600/60000 (96%)]\tLoss: 0.074219\n",
      "\n",
      "Train set: Average loss: 0.1905, Accuracy: 57727/60000 (96.2%)\n",
      "\n",
      "\n",
      "Test set: Average loss: 0.1001, Accuracy: 58156/60000 (96.927%)\n",
      "\n",
      "Train Epoch: 5 [0/60000 (0%)]\tLoss: 0.098231\n",
      "Train Epoch: 5 [6400/60000 (11%)]\tLoss: 0.071504\n",
      "Train Epoch: 5 [12800/60000 (21%)]\tLoss: 0.130749\n",
      "Train Epoch: 5 [19200/60000 (32%)]\tLoss: 0.105956\n",
      "Train Epoch: 5 [25600/60000 (43%)]\tLoss: 0.054525\n",
      "Train Epoch: 5 [32000/60000 (53%)]\tLoss: 0.023312\n",
      "Train Epoch: 5 [38400/60000 (64%)]\tLoss: 0.123328\n",
      "Train Epoch: 5 [44800/60000 (75%)]\tLoss: 0.128795\n",
      "Train Epoch: 5 [51200/60000 (85%)]\tLoss: 0.037439\n",
      "Train Epoch: 5 [57600/60000 (96%)]\tLoss: 0.083688\n",
      "\n",
      "Train set: Average loss: 0.1215, Accuracy: 58091/60000 (96.8%)\n",
      "\n",
      "\n",
      "Test set: Average loss: 0.0885, Accuracy: 58347/60000 (97.245%)\n",
      "\n",
      "Train Epoch: 6 [0/60000 (0%)]\tLoss: 0.039461\n",
      "Train Epoch: 6 [6400/60000 (11%)]\tLoss: 0.124128\n",
      "Train Epoch: 6 [12800/60000 (21%)]\tLoss: 0.142363\n",
      "Train Epoch: 6 [19200/60000 (32%)]\tLoss: 0.020661\n",
      "Train Epoch: 6 [25600/60000 (43%)]\tLoss: 0.093892\n",
      "Train Epoch: 6 [32000/60000 (53%)]\tLoss: 0.027788\n",
      "Train Epoch: 6 [38400/60000 (64%)]\tLoss: 0.020292\n",
      "Train Epoch: 6 [44800/60000 (75%)]\tLoss: 0.047171\n",
      "Train Epoch: 6 [51200/60000 (85%)]\tLoss: 0.127147\n",
      "Train Epoch: 6 [57600/60000 (96%)]\tLoss: 0.167429\n",
      "\n",
      "Train set: Average loss: 0.1746, Accuracy: 58279/60000 (97.1%)\n",
      "\n",
      "\n",
      "Test set: Average loss: 0.0752, Accuracy: 58607/60000 (97.678%)\n",
      "\n",
      "Train Epoch: 7 [0/60000 (0%)]\tLoss: 0.217090\n",
      "Train Epoch: 7 [6400/60000 (11%)]\tLoss: 0.068513\n",
      "Train Epoch: 7 [12800/60000 (21%)]\tLoss: 0.017008\n",
      "Train Epoch: 7 [19200/60000 (32%)]\tLoss: 0.058904\n",
      "Train Epoch: 7 [25600/60000 (43%)]\tLoss: 0.252118\n",
      "Train Epoch: 7 [32000/60000 (53%)]\tLoss: 0.086571\n",
      "Train Epoch: 7 [38400/60000 (64%)]\tLoss: 0.106851\n",
      "Train Epoch: 7 [44800/60000 (75%)]\tLoss: 0.110818\n",
      "Train Epoch: 7 [51200/60000 (85%)]\tLoss: 0.053001\n",
      "Train Epoch: 7 [57600/60000 (96%)]\tLoss: 0.063327\n",
      "\n",
      "Train set: Average loss: 0.0410, Accuracy: 58436/60000 (97.4%)\n",
      "\n",
      "\n",
      "Test set: Average loss: 0.0671, Accuracy: 58735/60000 (97.892%)\n",
      "\n",
      "Train Epoch: 8 [0/60000 (0%)]\tLoss: 0.023852\n",
      "Train Epoch: 8 [6400/60000 (11%)]\tLoss: 0.039774\n",
      "Train Epoch: 8 [12800/60000 (21%)]\tLoss: 0.020820\n",
      "Train Epoch: 8 [19200/60000 (32%)]\tLoss: 0.015348\n",
      "Train Epoch: 8 [25600/60000 (43%)]\tLoss: 0.153703\n",
      "Train Epoch: 8 [32000/60000 (53%)]\tLoss: 0.180384\n",
      "Train Epoch: 8 [38400/60000 (64%)]\tLoss: 0.041816\n",
      "Train Epoch: 8 [44800/60000 (75%)]\tLoss: 0.131316\n",
      "Train Epoch: 8 [51200/60000 (85%)]\tLoss: 0.014041\n",
      "Train Epoch: 8 [57600/60000 (96%)]\tLoss: 0.226514\n",
      "\n",
      "Train set: Average loss: 0.0369, Accuracy: 58626/60000 (97.7%)\n",
      "\n",
      "\n",
      "Test set: Average loss: 0.0627, Accuracy: 58775/60000 (97.958%)\n",
      "\n",
      "Train Epoch: 9 [0/60000 (0%)]\tLoss: 0.051907\n",
      "Train Epoch: 9 [6400/60000 (11%)]\tLoss: 0.016796\n",
      "Train Epoch: 9 [12800/60000 (21%)]\tLoss: 0.067224\n",
      "Train Epoch: 9 [19200/60000 (32%)]\tLoss: 0.020470\n",
      "Train Epoch: 9 [25600/60000 (43%)]\tLoss: 0.036757\n",
      "Train Epoch: 9 [32000/60000 (53%)]\tLoss: 0.175194\n",
      "Train Epoch: 9 [38400/60000 (64%)]\tLoss: 0.250596\n",
      "Train Epoch: 9 [44800/60000 (75%)]\tLoss: 0.086723\n",
      "Train Epoch: 9 [51200/60000 (85%)]\tLoss: 0.019141\n",
      "Train Epoch: 9 [57600/60000 (96%)]\tLoss: 0.098840\n",
      "\n",
      "Train set: Average loss: 0.1465, Accuracy: 58648/60000 (97.7%)\n",
      "\n",
      "\n",
      "Test set: Average loss: 0.0552, Accuracy: 58947/60000 (98.245%)\n",
      "\n",
      "Train Epoch: 10 [0/60000 (0%)]\tLoss: 0.003897\n",
      "Train Epoch: 10 [6400/60000 (11%)]\tLoss: 0.061286\n",
      "Train Epoch: 10 [12800/60000 (21%)]\tLoss: 0.135513\n",
      "Train Epoch: 10 [19200/60000 (32%)]\tLoss: 0.031312\n",
      "Train Epoch: 10 [25600/60000 (43%)]\tLoss: 0.094696\n",
      "Train Epoch: 10 [32000/60000 (53%)]\tLoss: 0.166200\n",
      "Train Epoch: 10 [38400/60000 (64%)]\tLoss: 0.112084\n",
      "Train Epoch: 10 [44800/60000 (75%)]\tLoss: 0.038289\n",
      "Train Epoch: 10 [51200/60000 (85%)]\tLoss: 0.059890\n",
      "Train Epoch: 10 [57600/60000 (96%)]\tLoss: 0.071818\n",
      "\n",
      "Train set: Average loss: 0.0117, Accuracy: 58805/60000 (98.0%)\n",
      "\n",
      "\n",
      "Test set: Average loss: 0.0531, Accuracy: 59002/60000 (98.337%)\n",
      "\n",
      "Training is finished.\n"
     ]
    }
   ],
   "source": [
    "#########################################################################\n",
    "#TODO: modify the parameters below to see which setting that you can get to 97%\n",
    "#########################################################################\n",
    "nLayer = 3\n",
    "nHidden = 32\n",
    "act_fn = nn.LeakyReLU(0.01)\n",
    "\n",
    "# reinitialize the mlp, so we can play with parameters right here\n",
    "mlp = MLP(nInput, nOutput, nLayer, nHidden, act_fn)\n",
    "optimizer = optim.Adam(mlp.parameters())\n",
    "\n",
    "epochs = 10\n",
    "for epoch in range(1, epochs + 1):\n",
    "    train(mlp, dl_train, optimizer, epoch, log_interval=100)\n",
    "    test(mlp, dl_test)\n",
    "\n",
    "print ('Training is finished.')"
   ]
  },
  {
   "cell_type": "markdown",
   "metadata": {},
   "source": [
    "Before you move on to the next exercise, you can further play with the other parameters (learning rate, epochs, a different optimizer, etc.) to get a feeling what can improve or hamper performance. "
   ]
  },
  {
   "cell_type": "markdown",
   "metadata": {},
   "source": [
    "## CNN\n",
    "Alright, we matched our prior performance. Let's surpass it! You will soon see the power of CNN by building a small one yourself. The structure should be as follows\n",
    "\n",
    "| CNN Architecture                             \t|\n",
    "|----------------------------------------------\t|\n",
    "| Conv: $C_{in}=1, C_{out}=32, K=3, S=1, P=0$  \t|\n",
    "| ReLU                                         \t|\n",
    "| Conv: $C_{in}=32, C_{out}=64, K=3, S=1, P=0$ \t|\n",
    "| ReLU                                         \t|\n",
    "| MaxPool2d: $K=2, S=2, P=0$                   \t|\n",
    "| Dropout: $p=0.25$                            \t|\n",
    "| Linear: $C_{in}=9216, C_{out}=128$           \t|\n",
    "| ReLU                                         \t|\n",
    "| Dropout: $p=0.5$                             \t|\n",
    "| Linear: $C_{in}=128, C_{out}=10$             \t|\n",
    "\n",
    "The layers you will need are: \n",
    "\n",
    "`nn.Conv2d,  nn.Linear,  nn.Dropout, nn.MaxPool2d, nn.Flatten`\n",
    "\n",
    "For layers without parameters you can alternatively use function in the forward pass:  \n",
    "\n",
    "`F.max_pool2d, torch.flatten`"
   ]
  },
  {
   "cell_type": "code",
   "execution_count": 27,
   "metadata": {},
   "outputs": [],
   "source": [
    "#########################################################################\n",
    "# TODO: Implement the __init__ and forward method of the CNN class. \n",
    "# Hint: do not forget to flatten the appropriate dimension after the convolutional blocks. \n",
    "# A linear layers expect input of the size (B, H) with batch size B and feature size H\n",
    "#########################################################################\n",
    "\n",
    "class CNN(nn.Module):\n",
    "    def __init__(self):\n",
    "        super(CNN, self).__init__()\n",
    "        self.conv1 = nn.Sequential(\n",
    "            nn.Conv2d(\n",
    "                in_channels=1,      # input channels (1 for grayscale images like MNIST)\n",
    "                out_channels=32,    # number of filters\n",
    "                kernel_size=3,      # filter size\n",
    "                stride=1,           # filter movement/step\n",
    "                padding=0           # padding to maintain spatial dimensions\n",
    "            ),                      \n",
    "            nn.ReLU(),              # activation\n",
    "        )\n",
    "        \n",
    "        # Second convolutional layer\n",
    "        self.conv2 = nn.Sequential(\n",
    "            nn.Conv2d(\n",
    "                in_channels=32, \n",
    "                out_channels=64, \n",
    "                kernel_size=3, \n",
    "                stride=1, \n",
    "                padding=0\n",
    "            ),                      \n",
    "            nn.ReLU(),              \n",
    "            nn.MaxPool2d(kernel_size=2, stride=2, padding=0),\n",
    "            nn.Dropout(0.25)\n",
    "        )\n",
    "         # Flatten\n",
    "        self.flatten = nn.Flatten()\n",
    "\n",
    "        # Full connection layer\n",
    "        self.fc1 = nn.Sequential(\n",
    "            nn.Linear(in_features=64 * 12 * 12, out_features=128),\n",
    "            nn.ReLU(),\n",
    "            nn.Dropout(p=0.5)\n",
    "        )\n",
    "        self.fc2 = nn.Linear(in_features=128, out_features=10)\n",
    "\n",
    "    def forward(self, x):\n",
    "        x = self.conv1(x)       \n",
    "        x = self.conv2(x)       \n",
    "        x = self.flatten(x)    \n",
    "        x = self.fc1(x)      \n",
    "        output = self.fc2(x)    \n",
    "        return output\n"
   ]
  },
  {
   "cell_type": "code",
   "execution_count": 28,
   "metadata": {},
   "outputs": [
    {
     "name": "stderr",
     "output_type": "stream",
     "text": [
      "e:\\python363\\lib\\site-packages\\torch\\nn\\functional.py:718: UserWarning: Named tensors and all their associated APIs are an experimental feature and subject to change. Please do not use them for anything important until they are released as stable. (Triggered internally at  ..\\c10/core/TensorImpl.h:1156.)\n",
      "  return torch.max_pool2d(input, kernel_size, stride, padding, dilation, ceil_mode)\n"
     ]
    },
    {
     "data": {
      "text/plain": [
       "torch.Size([1, 10])"
      ]
     },
     "execution_count": 28,
     "metadata": {},
     "output_type": "execute_result"
    }
   ],
   "source": [
    "# Let's test if the forward pass works\n",
    "# this should print torch.Size([1, 10])\n",
    "t = torch.randn(1,1,28,28)\n",
    "cnn = CNN()\n",
    "cnn(t).shape"
   ]
  },
  {
   "cell_type": "markdown",
   "metadata": {},
   "source": [
    "Alright, let's train!"
   ]
  },
  {
   "cell_type": "code",
   "execution_count": 29,
   "metadata": {},
   "outputs": [],
   "source": [
    "optimizer = optim.Adam(cnn.parameters())"
   ]
  },
  {
   "cell_type": "code",
   "execution_count": 30,
   "metadata": {
    "scrolled": true
   },
   "outputs": [
    {
     "name": "stdout",
     "output_type": "stream",
     "text": [
      "Train Epoch: 1 [0/60000 (0%)]\tLoss: 2.315151\n",
      "Train Epoch: 1 [6400/60000 (11%)]\tLoss: 0.351339\n",
      "Train Epoch: 1 [12800/60000 (21%)]\tLoss: 0.253894\n",
      "Train Epoch: 1 [19200/60000 (32%)]\tLoss: 0.188940\n",
      "Train Epoch: 1 [25600/60000 (43%)]\tLoss: 0.064521\n",
      "Train Epoch: 1 [32000/60000 (53%)]\tLoss: 0.212481\n",
      "Train Epoch: 1 [38400/60000 (64%)]\tLoss: 0.154325\n",
      "Train Epoch: 1 [44800/60000 (75%)]\tLoss: 0.077953\n",
      "Train Epoch: 1 [51200/60000 (85%)]\tLoss: 0.174357\n",
      "Train Epoch: 1 [57600/60000 (96%)]\tLoss: 0.213989\n",
      "\n",
      "Train set: Average loss: 0.0738, Accuracy: 56464/60000 (94.1%)\n",
      "\n",
      "\n",
      "Test set: Average loss: 0.0413, Accuracy: 59262/60000 (98.770%)\n",
      "\n",
      "Train Epoch: 2 [0/60000 (0%)]\tLoss: 0.027203\n",
      "Train Epoch: 2 [6400/60000 (11%)]\tLoss: 0.060264\n",
      "Train Epoch: 2 [12800/60000 (21%)]\tLoss: 0.056702\n",
      "Train Epoch: 2 [19200/60000 (32%)]\tLoss: 0.017659\n",
      "Train Epoch: 2 [25600/60000 (43%)]\tLoss: 0.044765\n",
      "Train Epoch: 2 [32000/60000 (53%)]\tLoss: 0.062025\n",
      "Train Epoch: 2 [38400/60000 (64%)]\tLoss: 0.029159\n",
      "Train Epoch: 2 [44800/60000 (75%)]\tLoss: 0.157726\n",
      "Train Epoch: 2 [51200/60000 (85%)]\tLoss: 0.112636\n",
      "Train Epoch: 2 [57600/60000 (96%)]\tLoss: 0.200113\n",
      "\n",
      "Train set: Average loss: 0.0319, Accuracy: 58600/60000 (97.7%)\n",
      "\n",
      "\n",
      "Test set: Average loss: 0.0254, Accuracy: 59547/60000 (99.245%)\n",
      "\n",
      "Train Epoch: 3 [0/60000 (0%)]\tLoss: 0.024740\n",
      "Train Epoch: 3 [6400/60000 (11%)]\tLoss: 0.021607\n",
      "Train Epoch: 3 [12800/60000 (21%)]\tLoss: 0.043721\n",
      "Train Epoch: 3 [19200/60000 (32%)]\tLoss: 0.089992\n",
      "Train Epoch: 3 [25600/60000 (43%)]\tLoss: 0.012657\n",
      "Train Epoch: 3 [32000/60000 (53%)]\tLoss: 0.058884\n",
      "Train Epoch: 3 [38400/60000 (64%)]\tLoss: 0.019409\n",
      "Train Epoch: 3 [44800/60000 (75%)]\tLoss: 0.061648\n",
      "Train Epoch: 3 [51200/60000 (85%)]\tLoss: 0.017291\n",
      "Train Epoch: 3 [57600/60000 (96%)]\tLoss: 0.045981\n",
      "\n",
      "Train set: Average loss: 0.2686, Accuracy: 58885/60000 (98.1%)\n",
      "\n",
      "\n",
      "Test set: Average loss: 0.0201, Accuracy: 59622/60000 (99.370%)\n",
      "\n",
      "Train Epoch: 4 [0/60000 (0%)]\tLoss: 0.024953\n",
      "Train Epoch: 4 [6400/60000 (11%)]\tLoss: 0.028927\n",
      "Train Epoch: 4 [12800/60000 (21%)]\tLoss: 0.009526\n",
      "Train Epoch: 4 [19200/60000 (32%)]\tLoss: 0.008718\n",
      "Train Epoch: 4 [25600/60000 (43%)]\tLoss: 0.187900\n",
      "Train Epoch: 4 [32000/60000 (53%)]\tLoss: 0.011610\n",
      "Train Epoch: 4 [38400/60000 (64%)]\tLoss: 0.070538\n",
      "Train Epoch: 4 [44800/60000 (75%)]\tLoss: 0.028963\n",
      "Train Epoch: 4 [51200/60000 (85%)]\tLoss: 0.010409\n",
      "Train Epoch: 4 [57600/60000 (96%)]\tLoss: 0.016456\n",
      "\n",
      "Train set: Average loss: 0.0838, Accuracy: 59061/60000 (98.4%)\n",
      "\n",
      "\n",
      "Test set: Average loss: 0.0216, Accuracy: 59588/60000 (99.313%)\n",
      "\n",
      "Train Epoch: 5 [0/60000 (0%)]\tLoss: 0.017853\n",
      "Train Epoch: 5 [6400/60000 (11%)]\tLoss: 0.056954\n",
      "Train Epoch: 5 [12800/60000 (21%)]\tLoss: 0.042273\n",
      "Train Epoch: 5 [19200/60000 (32%)]\tLoss: 0.127673\n",
      "Train Epoch: 5 [25600/60000 (43%)]\tLoss: 0.132494\n",
      "Train Epoch: 5 [32000/60000 (53%)]\tLoss: 0.022338\n",
      "Train Epoch: 5 [38400/60000 (64%)]\tLoss: 0.006154\n",
      "Train Epoch: 5 [44800/60000 (75%)]\tLoss: 0.151165\n",
      "Train Epoch: 5 [51200/60000 (85%)]\tLoss: 0.027304\n",
      "Train Epoch: 5 [57600/60000 (96%)]\tLoss: 0.093441\n",
      "\n",
      "Train set: Average loss: 0.0211, Accuracy: 59121/60000 (98.5%)\n",
      "\n",
      "\n",
      "Test set: Average loss: 0.0115, Accuracy: 59796/60000 (99.660%)\n",
      "\n"
     ]
    }
   ],
   "source": [
    "epochs = 5\n",
    "for epoch in range(1, epochs + 1):\n",
    "    train(cnn, dl_train, optimizer, epoch, log_interval=100)\n",
    "    test(cnn, dl_test)"
   ]
  },
  {
   "cell_type": "markdown",
   "metadata": {},
   "source": [
    "This will probably take a bit longer to train, as a convolutional network is not very efficient on a CPU. The current settings should get you around **99%** accuracy. Nice! \n",
    "Again, you should try different hyperparameters and see how far you can push the performance."
   ]
  },
  {
   "cell_type": "markdown",
   "metadata": {},
   "source": [
    "### Inline Question\n",
    "\n",
    "If your model weight is randomly initalized, and no training is done as above. What accuracy do you think the model will get for a 10-class classification task in theory?\n",
    "\n",
    "**Your answer**: \n",
    "If the model is randomly initialized and hasn’t been trained, it will just make random guesses. In a 10-class classification task, the chance of guessing correctly is 1/10, which is **10% accuracy**."
   ]
  },
  {
   "cell_type": "markdown",
   "metadata": {},
   "source": [
    "## Training on CIFAR10\n",
    "\n",
    "Now we are going to move to something more challenging - CIFAR10. We can reuse most of the code above. Thankfully, CIFAR is also a popular dataset, so we can again make use of a PyTorch convience function."
   ]
  },
  {
   "cell_type": "code",
   "execution_count": 31,
   "metadata": {},
   "outputs": [
    {
     "name": "stdout",
     "output_type": "stream",
     "text": [
      "Downloading https://www.cs.toronto.edu/~kriz/cifar-10-python.tar.gz to ./data\\cifar-10-python.tar.gz\n"
     ]
    },
    {
     "name": "stderr",
     "output_type": "stream",
     "text": [
      "170499072it [00:22, 7740471.50it/s]                                                                                    \n"
     ]
    },
    {
     "name": "stdout",
     "output_type": "stream",
     "text": [
      "Extracting ./data\\cifar-10-python.tar.gz to ./data\n"
     ]
    }
   ],
   "source": [
    "ds_train = datasets.CIFAR10(root='./data', train=True, download=True)"
   ]
  },
  {
   "cell_type": "markdown",
   "metadata": {},
   "source": [
    "This dataset is not normalized yet, so we need to calculate the normalization constants."
   ]
  },
  {
   "cell_type": "code",
   "execution_count": 32,
   "metadata": {},
   "outputs": [],
   "source": [
    "ims_train = torch.tensor(ds_train.data)\n",
    "ims_train = ims_train.float() / 255."
   ]
  },
  {
   "cell_type": "code",
   "execution_count": 33,
   "metadata": {},
   "outputs": [
    {
     "data": {
      "text/plain": [
       "tensor([0.2470, 0.2435, 0.2616])"
      ]
     },
     "execution_count": 33,
     "metadata": {},
     "output_type": "execute_result"
    }
   ],
   "source": [
    "ims_train.std((0,1,2))"
   ]
  },
  {
   "cell_type": "code",
   "execution_count": 36,
   "metadata": {},
   "outputs": [],
   "source": [
    "#########################################################################\n",
    "# TODO: calculate the mean and std of CIFAR\n",
    "# hint: We want the mean and std of the channel dimension, these should\n",
    "# be 3 dimensional\n",
    "#########################################################################\n",
    "mu = ims_train.mean((0,1,2))\n",
    "std = ims_train.std((0,1,2))\n"
   ]
  },
  {
   "cell_type": "code",
   "execution_count": 34,
   "metadata": {},
   "outputs": [
    {
     "data": {
      "text/plain": [
       "tensor([0.4914, 0.4822, 0.4465])"
      ]
     },
     "execution_count": 34,
     "metadata": {},
     "output_type": "execute_result"
    }
   ],
   "source": [
    "torch.mean(ims_train, dim=(0,1,2))"
   ]
  },
  {
   "cell_type": "markdown",
   "metadata": {},
   "source": [
    "For CIFAR we want to make use of data augmentation to improve generalization. You will find all data augmentations data are included in torchvision here:\n",
    "\n",
    "https://pytorch.org/docs/stable/torchvision/transforms.html"
   ]
  },
  {
   "cell_type": "code",
   "execution_count": 37,
   "metadata": {},
   "outputs": [
    {
     "name": "stdout",
     "output_type": "stream",
     "text": [
      "Files already downloaded and verified\n",
      "Files already downloaded and verified\n"
     ]
    }
   ],
   "source": [
    "BATCH_SIZE = 128\n",
    "NUM_WORKERS = 4 # if you encounter some unexpected errors in data loading, try setting `NUM_WORKERS = 0`\n",
    "#########################################################################\n",
    "# TODO: Implement the proper transforms for the training and test dataloaders. \n",
    "# Then build train and test dataloaders with batch size 128 and 4 workers\n",
    "#\n",
    "# Train: \n",
    "# - Apply a random crop with size 32 on a padded version of the image with P=4\n",
    "# - Flip the image horizontally with a probability of 40 %\n",
    "# - Transform to a Tensor\n",
    "# - Normalize with the constants calculated above\n",
    "# Test: \n",
    "# - Transform to a Tensor\n",
    "# - Normalize with the constants calculated above\n",
    "#########################################################################\n",
    "transform_train = transforms.Compose([\n",
    "    transforms.Pad(4),  # Pad the image with 4 pixels\n",
    "    transforms.RandomCrop(32),  # Random crop to 32x32\n",
    "    transforms.RandomHorizontalFlip(p=0.4),  # Flip the image with 40% probability\n",
    "    transforms.ToTensor(),  # Convert to Tensor\n",
    "    transforms.Normalize(mu, std)  # Normalize the image\n",
    "])\n",
    "transform_test = transforms.Compose([\n",
    "    transforms.ToTensor(),  # Convert to Tensor\n",
    "    transforms.Normalize(mu, std)  # Normalize the image\n",
    "])\n",
    "\n",
    "ds_train = datasets.CIFAR10('./data', train=True, download=True, transform=transform_train)\n",
    "ds_test = datasets.CIFAR10('./data', train=False, download=True, transform=transform_test)\n",
    "\n",
    "dl_train = DataLoader(ds_train, batch_size=BATCH_SIZE, shuffle=True, num_workers=NUM_WORKERS)\n",
    "dl_test = DataLoader(ds_test, batch_size=BATCH_SIZE, shuffle=False, num_workers=NUM_WORKERS)"
   ]
  },
  {
   "cell_type": "markdown",
   "metadata": {},
   "source": [
    "Setting up the  optimizer, this time we use SGD. The scheduler adapts the learning rate during traing (you can ignore it)"
   ]
  },
  {
   "cell_type": "code",
   "execution_count": 38,
   "metadata": {},
   "outputs": [],
   "source": [
    "cnn = CNN()\n",
    "optimizer = optim.SGD(cnn.parameters(), lr=0.1, momentum=0.9, weight_decay=5e-4)\n",
    "scheduler = torch.optim.lr_scheduler.CosineAnnealingLR(optimizer, T_max=200)"
   ]
  },
  {
   "cell_type": "code",
   "execution_count": 39,
   "metadata": {
    "scrolled": true
   },
   "outputs": [
    {
     "ename": "RuntimeError",
     "evalue": "Given groups=1, weight of size [32, 1, 3, 3], expected input[128, 3, 32, 32] to have 1 channels, but got 3 channels instead",
     "output_type": "error",
     "traceback": [
      "\u001b[1;31m---------------------------------------------------------------------------\u001b[0m",
      "\u001b[1;31mRuntimeError\u001b[0m                              Traceback (most recent call last)",
      "\u001b[1;32m<ipython-input-39-ba9429f4ef5e>\u001b[0m in \u001b[0;36m<module>\u001b[1;34m\u001b[0m\n\u001b[0;32m      1\u001b[0m \u001b[0mepochs\u001b[0m \u001b[1;33m=\u001b[0m \u001b[1;36m5\u001b[0m\u001b[1;33m\u001b[0m\u001b[0m\n\u001b[0;32m      2\u001b[0m \u001b[1;32mfor\u001b[0m \u001b[0mepoch\u001b[0m \u001b[1;32min\u001b[0m \u001b[0mrange\u001b[0m\u001b[1;33m(\u001b[0m\u001b[1;36m1\u001b[0m\u001b[1;33m,\u001b[0m \u001b[0mepochs\u001b[0m \u001b[1;33m+\u001b[0m \u001b[1;36m1\u001b[0m\u001b[1;33m)\u001b[0m\u001b[1;33m:\u001b[0m\u001b[1;33m\u001b[0m\u001b[0m\n\u001b[1;32m----> 3\u001b[1;33m     \u001b[0mtrain\u001b[0m\u001b[1;33m(\u001b[0m\u001b[0mcnn\u001b[0m\u001b[1;33m,\u001b[0m \u001b[0mdl_train\u001b[0m\u001b[1;33m,\u001b[0m \u001b[0moptimizer\u001b[0m\u001b[1;33m,\u001b[0m \u001b[0mepoch\u001b[0m\u001b[1;33m,\u001b[0m \u001b[0mlog_interval\u001b[0m\u001b[1;33m=\u001b[0m\u001b[1;36m100\u001b[0m\u001b[1;33m)\u001b[0m\u001b[1;33m\u001b[0m\u001b[0m\n\u001b[0m\u001b[0;32m      4\u001b[0m     \u001b[0mtest\u001b[0m\u001b[1;33m(\u001b[0m\u001b[0mcnn\u001b[0m\u001b[1;33m,\u001b[0m \u001b[0mdl_test\u001b[0m\u001b[1;33m)\u001b[0m\u001b[1;33m\u001b[0m\u001b[0m\n\u001b[0;32m      5\u001b[0m     \u001b[0mscheduler\u001b[0m\u001b[1;33m.\u001b[0m\u001b[0mstep\u001b[0m\u001b[1;33m(\u001b[0m\u001b[1;33m)\u001b[0m\u001b[1;33m\u001b[0m\u001b[0m\n",
      "\u001b[1;32m<ipython-input-21-dfc342de024d>\u001b[0m in \u001b[0;36mtrain\u001b[1;34m(model, dl_train, optimizer, epoch, log_interval, device)\u001b[0m\n\u001b[0;32m     15\u001b[0m \u001b[1;33m\u001b[0m\u001b[0m\n\u001b[0;32m     16\u001b[0m         \u001b[1;31m##### implement this part #####\u001b[0m\u001b[1;33m\u001b[0m\u001b[1;33m\u001b[0m\u001b[0m\n\u001b[1;32m---> 17\u001b[1;33m         \u001b[0moutput\u001b[0m \u001b[1;33m=\u001b[0m \u001b[0mmodel\u001b[0m\u001b[1;33m(\u001b[0m\u001b[0mdata\u001b[0m\u001b[1;33m)\u001b[0m\u001b[1;33m\u001b[0m\u001b[0m\n\u001b[0m\u001b[0;32m     18\u001b[0m         \u001b[0mloss\u001b[0m \u001b[1;33m=\u001b[0m \u001b[0mF\u001b[0m\u001b[1;33m.\u001b[0m\u001b[0mcross_entropy\u001b[0m\u001b[1;33m(\u001b[0m\u001b[0moutput\u001b[0m\u001b[1;33m,\u001b[0m \u001b[0mtarget\u001b[0m\u001b[1;33m)\u001b[0m\u001b[1;33m\u001b[0m\u001b[0m\n\u001b[0;32m     19\u001b[0m         \u001b[0mloss\u001b[0m\u001b[1;33m.\u001b[0m\u001b[0mbackward\u001b[0m\u001b[1;33m(\u001b[0m\u001b[1;33m)\u001b[0m\u001b[1;33m\u001b[0m\u001b[0m\n",
      "\u001b[1;32me:\\python363\\lib\\site-packages\\torch\\nn\\modules\\module.py\u001b[0m in \u001b[0;36m_call_impl\u001b[1;34m(self, *input, **kwargs)\u001b[0m\n\u001b[0;32m   1049\u001b[0m         if not (self._backward_hooks or self._forward_hooks or self._forward_pre_hooks or _global_backward_hooks\n\u001b[0;32m   1050\u001b[0m                 or _global_forward_hooks or _global_forward_pre_hooks):\n\u001b[1;32m-> 1051\u001b[1;33m             \u001b[1;32mreturn\u001b[0m \u001b[0mforward_call\u001b[0m\u001b[1;33m(\u001b[0m\u001b[1;33m*\u001b[0m\u001b[0minput\u001b[0m\u001b[1;33m,\u001b[0m \u001b[1;33m**\u001b[0m\u001b[0mkwargs\u001b[0m\u001b[1;33m)\u001b[0m\u001b[1;33m\u001b[0m\u001b[0m\n\u001b[0m\u001b[0;32m   1052\u001b[0m         \u001b[1;31m# Do not call functions when jit is used\u001b[0m\u001b[1;33m\u001b[0m\u001b[1;33m\u001b[0m\u001b[0m\n\u001b[0;32m   1053\u001b[0m         \u001b[0mfull_backward_hooks\u001b[0m\u001b[1;33m,\u001b[0m \u001b[0mnon_full_backward_hooks\u001b[0m \u001b[1;33m=\u001b[0m \u001b[1;33m[\u001b[0m\u001b[1;33m]\u001b[0m\u001b[1;33m,\u001b[0m \u001b[1;33m[\u001b[0m\u001b[1;33m]\u001b[0m\u001b[1;33m\u001b[0m\u001b[0m\n",
      "\u001b[1;32m<ipython-input-27-a447097c4aee>\u001b[0m in \u001b[0;36mforward\u001b[1;34m(self, x)\u001b[0m\n\u001b[0;32m     44\u001b[0m \u001b[1;33m\u001b[0m\u001b[0m\n\u001b[0;32m     45\u001b[0m     \u001b[1;32mdef\u001b[0m \u001b[0mforward\u001b[0m\u001b[1;33m(\u001b[0m\u001b[0mself\u001b[0m\u001b[1;33m,\u001b[0m \u001b[0mx\u001b[0m\u001b[1;33m)\u001b[0m\u001b[1;33m:\u001b[0m\u001b[1;33m\u001b[0m\u001b[0m\n\u001b[1;32m---> 46\u001b[1;33m         \u001b[0mx\u001b[0m \u001b[1;33m=\u001b[0m \u001b[0mself\u001b[0m\u001b[1;33m.\u001b[0m\u001b[0mconv1\u001b[0m\u001b[1;33m(\u001b[0m\u001b[0mx\u001b[0m\u001b[1;33m)\u001b[0m\u001b[1;33m\u001b[0m\u001b[0m\n\u001b[0m\u001b[0;32m     47\u001b[0m         \u001b[0mx\u001b[0m \u001b[1;33m=\u001b[0m \u001b[0mself\u001b[0m\u001b[1;33m.\u001b[0m\u001b[0mconv2\u001b[0m\u001b[1;33m(\u001b[0m\u001b[0mx\u001b[0m\u001b[1;33m)\u001b[0m\u001b[1;33m\u001b[0m\u001b[0m\n\u001b[0;32m     48\u001b[0m         \u001b[0mx\u001b[0m \u001b[1;33m=\u001b[0m \u001b[0mself\u001b[0m\u001b[1;33m.\u001b[0m\u001b[0mflatten\u001b[0m\u001b[1;33m(\u001b[0m\u001b[0mx\u001b[0m\u001b[1;33m)\u001b[0m\u001b[1;33m\u001b[0m\u001b[0m\n",
      "\u001b[1;32me:\\python363\\lib\\site-packages\\torch\\nn\\modules\\module.py\u001b[0m in \u001b[0;36m_call_impl\u001b[1;34m(self, *input, **kwargs)\u001b[0m\n\u001b[0;32m   1049\u001b[0m         if not (self._backward_hooks or self._forward_hooks or self._forward_pre_hooks or _global_backward_hooks\n\u001b[0;32m   1050\u001b[0m                 or _global_forward_hooks or _global_forward_pre_hooks):\n\u001b[1;32m-> 1051\u001b[1;33m             \u001b[1;32mreturn\u001b[0m \u001b[0mforward_call\u001b[0m\u001b[1;33m(\u001b[0m\u001b[1;33m*\u001b[0m\u001b[0minput\u001b[0m\u001b[1;33m,\u001b[0m \u001b[1;33m**\u001b[0m\u001b[0mkwargs\u001b[0m\u001b[1;33m)\u001b[0m\u001b[1;33m\u001b[0m\u001b[0m\n\u001b[0m\u001b[0;32m   1052\u001b[0m         \u001b[1;31m# Do not call functions when jit is used\u001b[0m\u001b[1;33m\u001b[0m\u001b[1;33m\u001b[0m\u001b[0m\n\u001b[0;32m   1053\u001b[0m         \u001b[0mfull_backward_hooks\u001b[0m\u001b[1;33m,\u001b[0m \u001b[0mnon_full_backward_hooks\u001b[0m \u001b[1;33m=\u001b[0m \u001b[1;33m[\u001b[0m\u001b[1;33m]\u001b[0m\u001b[1;33m,\u001b[0m \u001b[1;33m[\u001b[0m\u001b[1;33m]\u001b[0m\u001b[1;33m\u001b[0m\u001b[0m\n",
      "\u001b[1;32me:\\python363\\lib\\site-packages\\torch\\nn\\modules\\container.py\u001b[0m in \u001b[0;36mforward\u001b[1;34m(self, input)\u001b[0m\n\u001b[0;32m    137\u001b[0m     \u001b[1;32mdef\u001b[0m \u001b[0mforward\u001b[0m\u001b[1;33m(\u001b[0m\u001b[0mself\u001b[0m\u001b[1;33m,\u001b[0m \u001b[0minput\u001b[0m\u001b[1;33m)\u001b[0m\u001b[1;33m:\u001b[0m\u001b[1;33m\u001b[0m\u001b[0m\n\u001b[0;32m    138\u001b[0m         \u001b[1;32mfor\u001b[0m \u001b[0mmodule\u001b[0m \u001b[1;32min\u001b[0m \u001b[0mself\u001b[0m\u001b[1;33m:\u001b[0m\u001b[1;33m\u001b[0m\u001b[0m\n\u001b[1;32m--> 139\u001b[1;33m             \u001b[0minput\u001b[0m \u001b[1;33m=\u001b[0m \u001b[0mmodule\u001b[0m\u001b[1;33m(\u001b[0m\u001b[0minput\u001b[0m\u001b[1;33m)\u001b[0m\u001b[1;33m\u001b[0m\u001b[0m\n\u001b[0m\u001b[0;32m    140\u001b[0m         \u001b[1;32mreturn\u001b[0m \u001b[0minput\u001b[0m\u001b[1;33m\u001b[0m\u001b[0m\n\u001b[0;32m    141\u001b[0m \u001b[1;33m\u001b[0m\u001b[0m\n",
      "\u001b[1;32me:\\python363\\lib\\site-packages\\torch\\nn\\modules\\module.py\u001b[0m in \u001b[0;36m_call_impl\u001b[1;34m(self, *input, **kwargs)\u001b[0m\n\u001b[0;32m   1049\u001b[0m         if not (self._backward_hooks or self._forward_hooks or self._forward_pre_hooks or _global_backward_hooks\n\u001b[0;32m   1050\u001b[0m                 or _global_forward_hooks or _global_forward_pre_hooks):\n\u001b[1;32m-> 1051\u001b[1;33m             \u001b[1;32mreturn\u001b[0m \u001b[0mforward_call\u001b[0m\u001b[1;33m(\u001b[0m\u001b[1;33m*\u001b[0m\u001b[0minput\u001b[0m\u001b[1;33m,\u001b[0m \u001b[1;33m**\u001b[0m\u001b[0mkwargs\u001b[0m\u001b[1;33m)\u001b[0m\u001b[1;33m\u001b[0m\u001b[0m\n\u001b[0m\u001b[0;32m   1052\u001b[0m         \u001b[1;31m# Do not call functions when jit is used\u001b[0m\u001b[1;33m\u001b[0m\u001b[1;33m\u001b[0m\u001b[0m\n\u001b[0;32m   1053\u001b[0m         \u001b[0mfull_backward_hooks\u001b[0m\u001b[1;33m,\u001b[0m \u001b[0mnon_full_backward_hooks\u001b[0m \u001b[1;33m=\u001b[0m \u001b[1;33m[\u001b[0m\u001b[1;33m]\u001b[0m\u001b[1;33m,\u001b[0m \u001b[1;33m[\u001b[0m\u001b[1;33m]\u001b[0m\u001b[1;33m\u001b[0m\u001b[0m\n",
      "\u001b[1;32me:\\python363\\lib\\site-packages\\torch\\nn\\modules\\conv.py\u001b[0m in \u001b[0;36mforward\u001b[1;34m(self, input)\u001b[0m\n\u001b[0;32m    441\u001b[0m \u001b[1;33m\u001b[0m\u001b[0m\n\u001b[0;32m    442\u001b[0m     \u001b[1;32mdef\u001b[0m \u001b[0mforward\u001b[0m\u001b[1;33m(\u001b[0m\u001b[0mself\u001b[0m\u001b[1;33m,\u001b[0m \u001b[0minput\u001b[0m\u001b[1;33m:\u001b[0m \u001b[0mTensor\u001b[0m\u001b[1;33m)\u001b[0m \u001b[1;33m->\u001b[0m \u001b[0mTensor\u001b[0m\u001b[1;33m:\u001b[0m\u001b[1;33m\u001b[0m\u001b[0m\n\u001b[1;32m--> 443\u001b[1;33m         \u001b[1;32mreturn\u001b[0m \u001b[0mself\u001b[0m\u001b[1;33m.\u001b[0m\u001b[0m_conv_forward\u001b[0m\u001b[1;33m(\u001b[0m\u001b[0minput\u001b[0m\u001b[1;33m,\u001b[0m \u001b[0mself\u001b[0m\u001b[1;33m.\u001b[0m\u001b[0mweight\u001b[0m\u001b[1;33m,\u001b[0m \u001b[0mself\u001b[0m\u001b[1;33m.\u001b[0m\u001b[0mbias\u001b[0m\u001b[1;33m)\u001b[0m\u001b[1;33m\u001b[0m\u001b[0m\n\u001b[0m\u001b[0;32m    444\u001b[0m \u001b[1;33m\u001b[0m\u001b[0m\n\u001b[0;32m    445\u001b[0m \u001b[1;32mclass\u001b[0m \u001b[0mConv3d\u001b[0m\u001b[1;33m(\u001b[0m\u001b[0m_ConvNd\u001b[0m\u001b[1;33m)\u001b[0m\u001b[1;33m:\u001b[0m\u001b[1;33m\u001b[0m\u001b[0m\n",
      "\u001b[1;32me:\\python363\\lib\\site-packages\\torch\\nn\\modules\\conv.py\u001b[0m in \u001b[0;36m_conv_forward\u001b[1;34m(self, input, weight, bias)\u001b[0m\n\u001b[0;32m    438\u001b[0m                             _pair(0), self.dilation, self.groups)\n\u001b[0;32m    439\u001b[0m         return F.conv2d(input, weight, bias, self.stride,\n\u001b[1;32m--> 440\u001b[1;33m                         self.padding, self.dilation, self.groups)\n\u001b[0m\u001b[0;32m    441\u001b[0m \u001b[1;33m\u001b[0m\u001b[0m\n\u001b[0;32m    442\u001b[0m     \u001b[1;32mdef\u001b[0m \u001b[0mforward\u001b[0m\u001b[1;33m(\u001b[0m\u001b[0mself\u001b[0m\u001b[1;33m,\u001b[0m \u001b[0minput\u001b[0m\u001b[1;33m:\u001b[0m \u001b[0mTensor\u001b[0m\u001b[1;33m)\u001b[0m \u001b[1;33m->\u001b[0m \u001b[0mTensor\u001b[0m\u001b[1;33m:\u001b[0m\u001b[1;33m\u001b[0m\u001b[0m\n",
      "\u001b[1;31mRuntimeError\u001b[0m: Given groups=1, weight of size [32, 1, 3, 3], expected input[128, 3, 32, 32] to have 1 channels, but got 3 channels instead"
     ]
    }
   ],
   "source": [
    "epochs = 5\n",
    "for epoch in range(1, epochs + 1):\n",
    "    train(cnn, dl_train, optimizer, epoch, log_interval=100)\n",
    "    test(cnn, dl_test)    \n",
    "    scheduler.step()"
   ]
  },
  {
   "cell_type": "markdown",
   "metadata": {},
   "source": [
    "This will not work. You should see the following error message\n",
    "\n",
    "```\n",
    "Given groups=1, weight of size [32, 1, 3, 3], expected input[128, 3, 32, 32] to have 1 channels, but got 3 channels instead\n",
    "```\n",
    "\n",
    "This error is telling us that something is not right in the definition of our model. Copy the CNN class from above and make changes, so the training works."
   ]
  },
  {
   "cell_type": "code",
   "execution_count": 48,
   "metadata": {},
   "outputs": [],
   "source": [
    "#########################################################################\n",
    "# TODO: Adapt the definition from the CNN class above to work on CIFAR.\n",
    "# You can copy and run the following prompt for evaluation:\n",
    "# CNN()(torch.randn(1,3,32,32)).shape\n",
    "# It should print 'torch.Size([1, 10])'\n",
    "# Hint: You need to change 2 things. \n",
    "#########################################################################\n",
    "\n",
    "class CNN(nn.Module):\n",
    "    def __init__(self):\n",
    "        super(CNN, self).__init__()\n",
    "        self.conv1 = nn.Sequential(\n",
    "            nn.Conv2d(\n",
    "                in_channels=3,      # input channels \n",
    "                out_channels=32,    # number of filters\n",
    "                kernel_size=3,      # filter size\n",
    "                stride=1,           # filter movement/step\n",
    "                padding=0           # padding to maintain spatial dimensions\n",
    "            ),                      \n",
    "            nn.ReLU(),              # activation\n",
    "        )\n",
    "        \n",
    "        # Second convolutional layer\n",
    "        self.conv2 = nn.Sequential(\n",
    "            nn.Conv2d(\n",
    "                in_channels=32, \n",
    "                out_channels=64, \n",
    "                kernel_size=3, \n",
    "                stride=1, \n",
    "                padding=0\n",
    "            ),                      \n",
    "            nn.ReLU(),              \n",
    "            nn.MaxPool2d(kernel_size=2, stride=2, padding=0),\n",
    "            nn.Dropout(0.25)\n",
    "        )\n",
    "         # Flatten\n",
    "        self.flatten = nn.Flatten()\n",
    "\n",
    "        # Full connection layer\n",
    "        self.fc1 = nn.Sequential(\n",
    "            nn.Linear(in_features=64 * 14 * 14, out_features=128),\n",
    "            nn.ReLU(),\n",
    "            nn.Dropout(p=0.5)\n",
    "        )\n",
    "        self.fc2 = nn.Linear(in_features=128, out_features=10)\n",
    "\n",
    "    def forward(self, x):\n",
    "        x = self.conv1(x)       \n",
    "        x = self.conv2(x)       \n",
    "        x = self.flatten(x)    \n",
    "        x = self.fc1(x)      \n",
    "        output = self.fc2(x)    \n",
    "        return output"
   ]
  },
  {
   "cell_type": "code",
   "execution_count": 49,
   "metadata": {},
   "outputs": [
    {
     "data": {
      "text/plain": [
       "torch.Size([1, 10])"
      ]
     },
     "execution_count": 49,
     "metadata": {},
     "output_type": "execute_result"
    }
   ],
   "source": [
    "CNN()(torch.randn(1,3,32,32)).shape"
   ]
  },
  {
   "cell_type": "markdown",
   "metadata": {},
   "source": [
    "Let's try again"
   ]
  },
  {
   "cell_type": "code",
   "execution_count": 50,
   "metadata": {
    "scrolled": true
   },
   "outputs": [
    {
     "name": "stdout",
     "output_type": "stream",
     "text": [
      "Train Epoch: 1 [0/50000 (0%)]\tLoss: 2.291456\n",
      "Train Epoch: 1 [12800/50000 (26%)]\tLoss: 2.103607\n",
      "Train Epoch: 1 [25600/50000 (51%)]\tLoss: 2.066732\n",
      "Train Epoch: 1 [38400/50000 (77%)]\tLoss: 1.890738\n",
      "\n",
      "Train set: Average loss: 2.0051, Accuracy: 11835/50000 (23.7%)\n",
      "\n",
      "\n",
      "Test set: Average loss: 1.7543, Accuracy: 3620/10000 (36.200%)\n",
      "\n",
      "Train Epoch: 2 [0/50000 (0%)]\tLoss: 1.854942\n",
      "Train Epoch: 2 [12800/50000 (26%)]\tLoss: 1.856334\n",
      "Train Epoch: 2 [25600/50000 (51%)]\tLoss: 1.743955\n",
      "Train Epoch: 2 [38400/50000 (77%)]\tLoss: 1.833660\n",
      "\n",
      "Train set: Average loss: 1.7744, Accuracy: 16582/50000 (33.2%)\n",
      "\n",
      "\n",
      "Test set: Average loss: 1.6107, Accuracy: 4100/10000 (41.000%)\n",
      "\n",
      "Train Epoch: 3 [0/50000 (0%)]\tLoss: 1.787088\n",
      "Train Epoch: 3 [12800/50000 (26%)]\tLoss: 1.752134\n",
      "Train Epoch: 3 [25600/50000 (51%)]\tLoss: 1.714899\n",
      "Train Epoch: 3 [38400/50000 (77%)]\tLoss: 1.611643\n",
      "\n",
      "Train set: Average loss: 1.6510, Accuracy: 18438/50000 (36.9%)\n",
      "\n",
      "\n",
      "Test set: Average loss: 1.4785, Accuracy: 4564/10000 (45.640%)\n",
      "\n",
      "Train Epoch: 4 [0/50000 (0%)]\tLoss: 1.603819\n",
      "Train Epoch: 4 [12800/50000 (26%)]\tLoss: 1.729648\n",
      "Train Epoch: 4 [25600/50000 (51%)]\tLoss: 1.687000\n",
      "Train Epoch: 4 [38400/50000 (77%)]\tLoss: 1.622092\n",
      "\n",
      "Train set: Average loss: 1.7012, Accuracy: 18926/50000 (37.9%)\n",
      "\n",
      "\n",
      "Test set: Average loss: 1.5260, Accuracy: 4408/10000 (44.080%)\n",
      "\n",
      "Train Epoch: 5 [0/50000 (0%)]\tLoss: 1.666183\n",
      "Train Epoch: 5 [12800/50000 (26%)]\tLoss: 1.573175\n",
      "Train Epoch: 5 [25600/50000 (51%)]\tLoss: 1.802247\n",
      "Train Epoch: 5 [38400/50000 (77%)]\tLoss: 1.662987\n",
      "\n",
      "Train set: Average loss: 1.6795, Accuracy: 19121/50000 (38.2%)\n",
      "\n",
      "\n",
      "Test set: Average loss: 1.5660, Accuracy: 4588/10000 (45.880%)\n",
      "\n",
      "Train Epoch: 6 [0/50000 (0%)]\tLoss: 1.666708\n",
      "Train Epoch: 6 [12800/50000 (26%)]\tLoss: 1.619469\n",
      "Train Epoch: 6 [25600/50000 (51%)]\tLoss: 1.642529\n",
      "Train Epoch: 6 [38400/50000 (77%)]\tLoss: 1.715493\n",
      "\n",
      "Train set: Average loss: 1.7467, Accuracy: 19557/50000 (39.1%)\n",
      "\n",
      "\n",
      "Test set: Average loss: 1.4675, Accuracy: 4627/10000 (46.270%)\n",
      "\n",
      "Train Epoch: 7 [0/50000 (0%)]\tLoss: 1.542674\n",
      "Train Epoch: 7 [12800/50000 (26%)]\tLoss: 1.727885\n",
      "Train Epoch: 7 [25600/50000 (51%)]\tLoss: 1.612350\n",
      "Train Epoch: 7 [38400/50000 (77%)]\tLoss: 1.575387\n",
      "\n",
      "Train set: Average loss: 1.5800, Accuracy: 19657/50000 (39.3%)\n",
      "\n",
      "\n",
      "Test set: Average loss: 1.4000, Accuracy: 4866/10000 (48.660%)\n",
      "\n",
      "Train Epoch: 8 [0/50000 (0%)]\tLoss: 1.619160\n",
      "Train Epoch: 8 [12800/50000 (26%)]\tLoss: 1.476702\n",
      "Train Epoch: 8 [25600/50000 (51%)]\tLoss: 1.439823\n",
      "Train Epoch: 8 [38400/50000 (77%)]\tLoss: 1.502535\n",
      "\n",
      "Train set: Average loss: 1.7557, Accuracy: 20293/50000 (40.6%)\n",
      "\n",
      "\n",
      "Test set: Average loss: 1.5428, Accuracy: 4433/10000 (44.330%)\n",
      "\n",
      "Train Epoch: 9 [0/50000 (0%)]\tLoss: 1.687867\n",
      "Train Epoch: 9 [12800/50000 (26%)]\tLoss: 1.531740\n",
      "Train Epoch: 9 [25600/50000 (51%)]\tLoss: 1.670961\n",
      "Train Epoch: 9 [38400/50000 (77%)]\tLoss: 1.621430\n",
      "\n",
      "Train set: Average loss: 1.5491, Accuracy: 20092/50000 (40.2%)\n",
      "\n",
      "\n",
      "Test set: Average loss: 1.4306, Accuracy: 4903/10000 (49.030%)\n",
      "\n",
      "Train Epoch: 10 [0/50000 (0%)]\tLoss: 1.688597\n",
      "Train Epoch: 10 [12800/50000 (26%)]\tLoss: 1.488503\n",
      "Train Epoch: 10 [25600/50000 (51%)]\tLoss: 1.608627\n",
      "Train Epoch: 10 [38400/50000 (77%)]\tLoss: 1.656813\n",
      "\n",
      "Train set: Average loss: 1.6526, Accuracy: 20799/50000 (41.6%)\n",
      "\n",
      "\n",
      "Test set: Average loss: 1.3631, Accuracy: 5131/10000 (51.310%)\n",
      "\n"
     ]
    }
   ],
   "source": [
    "cnn = CNN()\n",
    "optimizer = optim.SGD(cnn.parameters(), lr=0.1, momentum=0.9, weight_decay=5e-4)\n",
    "scheduler = torch.optim.lr_scheduler.CosineAnnealingLR(optimizer, T_max=200)\n",
    "\n",
    "epochs = 10\n",
    "for epoch in range(1, epochs + 1):\n",
    "    train(cnn, dl_train, optimizer, epoch, log_interval=100)\n",
    "    test(cnn, dl_test)    \n",
    "    scheduler.step()"
   ]
  },
  {
   "cell_type": "markdown",
   "metadata": {},
   "source": [
    "This should give 40 - 50 % - and if you are not already on Colab it will give you a stressed out laptop. The performance is a lot better than random, but we can definitely do better."
   ]
  },
  {
   "cell_type": "markdown",
   "metadata": {},
   "source": [
    "### Have fun with GPUs\n",
    "You can already call it a day until this point because we won't grade the rest of the excecise. You can have more fun with the rest :)\n"
   ]
  },
  {
   "cell_type": "markdown",
   "metadata": {},
   "source": [
    "\n",
    "If you didn't already, move to colab. To use a GPU, follow on the collaboratory menu tabs, \"Runtime\" => \"Change runtime type\" and set it to GPU. Then run the same training loop but now on GPU. \n",
    "\n",
    "It as easy as:"
   ]
  },
  {
   "cell_type": "code",
   "execution_count": null,
   "metadata": {},
   "outputs": [],
   "source": [
    "device = 'cuda'\n",
    "if device == 'cuda': torch.backends.cudnn.benchmark = True # additional speed up\n",
    "\n",
    "cnn = CNN()\n",
    "optimizer = optim.SGD(cnn.parameters(), lr=0.1, momentum=0.9, weight_decay=5e-4)\n",
    "scheduler = torch.optim.lr_scheduler.CosineAnnealingLR(optimizer, T_max=200)\n",
    "cnn = cnn.to(device)\n",
    "\n",
    "epochs = 10\n",
    "for epoch in range(1, epochs + 1):\n",
    "    train(cnn, dl_train, optimizer, epoch, log_interval=100, device=device)\n",
    "    test(cnn, dl_test, device=device)    \n",
    "    scheduler.step()"
   ]
  },
  {
   "cell_type": "markdown",
   "metadata": {},
   "source": [
    "This should be way faster now. But the true advantage of the GPU is that we can use much bigger models now and still train them in a reasonable amount of time. PyTorch is again very handy. The torchvision library comes with varies state-of-the-art model architectures, some of which you have seen in the lecture."
   ]
  },
  {
   "cell_type": "code",
   "execution_count": null,
   "metadata": {},
   "outputs": [],
   "source": [
    "from torchvision.models import resnet18"
   ]
  },
  {
   "cell_type": "code",
   "execution_count": null,
   "metadata": {
    "scrolled": true
   },
   "outputs": [],
   "source": [
    "cnn = resnet18()\n",
    "print(cnn)"
   ]
  },
  {
   "cell_type": "markdown",
   "metadata": {},
   "source": [
    "Looks scary! But the only thing you need to change to make it work on CIFAR is the last layer.\n",
    "Currently the last layer is:\n",
    "```\n",
    "  (fc): Linear(in_features=512, out_features=1000, bias=True)\n",
    "```\n",
    "out_features is the number of classes. This models are developed for Imagenet, a dataset with 1000 classes. So this part of the model you need to adapt. Additionally, you need to add a log-softmax layer again, as we us negative log-likelihood as the training criterion. "
   ]
  },
  {
   "cell_type": "code",
   "execution_count": null,
   "metadata": {},
   "outputs": [],
   "source": [
    "#########################################################################\n",
    "# TODO: Adapt the Resnet to work on CIFAR\n",
    "#########################################################################\n"
   ]
  },
  {
   "cell_type": "code",
   "execution_count": null,
   "metadata": {},
   "outputs": [],
   "source": [
    "# This should print 'torch.Size([16, 10])'\n",
    "cnn(torch.randn(16,3,32,32)).shape"
   ]
  },
  {
   "cell_type": "code",
   "execution_count": null,
   "metadata": {},
   "outputs": [],
   "source": [
    "device = 'cuda'\n",
    "if device == 'cuda': torch.backends.cudnn.benchmark = True # this gives us additional speed up\n",
    "\n",
    "optimizer = optim.SGD(cnn.parameters(), lr=0.1, momentum=0.9, weight_decay=5e-4)\n",
    "scheduler = torch.optim.lr_scheduler.CosineAnnealingLR(optimizer, T_max=200)\n",
    "cnn = cnn.to(device)\n",
    "\n",
    "epochs = 50\n",
    "for epoch in range(1, epochs + 1):\n",
    "    train(cnn, dl_train, optimizer, epoch, log_interval=100, device=device)\n",
    "    test(cnn, dl_test, device=device)    \n",
    "    scheduler.step()"
   ]
  },
  {
   "cell_type": "markdown",
   "metadata": {},
   "source": [
    "This should get us well above 75%, the best we got was ~ 80%.\n",
    "\n",
    "Now, use different torchvision architectures, different optimizers (Adam is always a good choice), data augmentation techniques, and hyperparameter search to achieve a test accuracy of >90 %"
   ]
  },
  {
   "cell_type": "code",
   "execution_count": null,
   "metadata": {},
   "outputs": [],
   "source": []
  }
 ],
 "metadata": {
  "kernelspec": {
   "display_name": "Python 3",
   "language": "python",
   "name": "python3"
  },
  "language_info": {
   "codemirror_mode": {
    "name": "ipython",
    "version": 3
   },
   "file_extension": ".py",
   "mimetype": "text/x-python",
   "name": "python",
   "nbconvert_exporter": "python",
   "pygments_lexer": "ipython3",
   "version": "3.6.3"
  },
  "vscode": {
   "interpreter": {
    "hash": "d268b61a0efacafa8645774cb6d0204c9f01d7563ef03f7672146d044e8f345c"
   }
  }
 },
 "nbformat": 4,
 "nbformat_minor": 4
}
